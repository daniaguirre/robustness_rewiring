{
 "cells": [
  {
   "cell_type": "code",
   "execution_count": 8,
   "id": "52c38b68",
   "metadata": {},
   "outputs": [],
   "source": [
    "import numpy as np\n",
    "from jinja2 import Template, Environment, FileSystemLoader, select_autoescape\n",
    "from os.path import exists\n",
    "import pandas as pd"
   ]
  },
  {
   "cell_type": "markdown",
   "id": "d7510c18",
   "metadata": {},
   "source": [
    "# Get data"
   ]
  },
  {
   "cell_type": "code",
   "execution_count": 9,
   "id": "6f4be95c",
   "metadata": {},
   "outputs": [],
   "source": [
    "generic_metrics = ['basic_metrics','avg_dist', 'communities']\n",
    "metrics = {generic_metrics[0]:['max_deg', 'assortativity', 'avpl', 'diameter'],\n",
    "          generic_metrics[1]:['avg_clustering_coefficient'],\n",
    "          generic_metrics[2]:['num_comunidades','min_community_size_prop','max_community_size_prop','avg_community_size_prop','imbalance','edge_cut_prop','modularity']}\n",
    "y_label = ['$k_{max}$', '$r$', '$<d>$', '$d$', '$\\overline{C}$', '$n_c$', '$N_{min}/N$', '$N_{max}/N$', '$<N_c>/N$', 'imbalance', '$q$', '$Q$' ]\n",
    "path_plot_files = 'plot_files\\\\'\n",
    "path_latex_files = 'latex_files\\\\'\n",
    "path_template = 'template.tex'"
   ]
  },
  {
   "cell_type": "code",
   "execution_count": 10,
   "id": "4a97f42f",
   "metadata": {},
   "outputs": [],
   "source": [
    "def get_data_by_file(p_data):\n",
    "    if exists(p_data):\n",
    "        #print(\"Existe el archivo {}\".format(p_data))\n",
    "        df = pd.read_csv(p_data, on_bad_lines='skip',sep=';',encoding='utf-8',index_col=0,low_memory=False)\n",
    "        return df        \n",
    "    else:\n",
    "        print(\"No existe el archivo {}\".format(p_data))\n",
    "        return None"
   ]
  },
  {
   "cell_type": "code",
   "execution_count": 11,
   "id": "c305c48c",
   "metadata": {},
   "outputs": [
    {
     "name": "stdout",
     "output_type": "stream",
     "text": [
      "['plot_files/basic_metrics/max_deg.csv', 'plot_files/basic_metrics/assortativity.csv', 'plot_files/basic_metrics/avpl.csv', 'plot_files/basic_metrics/diameter.csv', 'plot_files/avg_dist/avg_clustering_coefficient.csv', 'plot_files/communities/num_comunidades.csv', 'plot_files/communities/min_community_size_prop.csv', 'plot_files/communities/max_community_size_prop.csv', 'plot_files/communities/avg_community_size_prop.csv', 'plot_files/communities/imbalance.csv', 'plot_files/communities/edge_cut_prop.csv', 'plot_files/communities/modularity.csv']\n",
      "['max_deg', 'assortativity', 'avpl', 'diameter', 'avg_clustering_coefficient', 'num_comunidades', 'min_community_size_prop', 'max_community_size_prop', 'avg_community_size_prop', 'imbalance', 'edge_cut_prop', 'modularity']\n"
     ]
    }
   ],
   "source": [
    "metric_paths = ['plot_files/' + x + '/' + y + '.csv' for x in generic_metrics for y in metrics[x]]\n",
    "metric_names = [y for x in generic_metrics for y in metrics[x]]\n",
    "print(metric_paths)\n",
    "print(metric_names)"
   ]
  },
  {
   "cell_type": "code",
   "execution_count": 12,
   "id": "805ea86c",
   "metadata": {
    "scrolled": true
   },
   "outputs": [],
   "source": [
    "env = Environment(\n",
    "    loader=FileSystemLoader(\".\"),\n",
    "    autoescape=select_autoescape()\n",
    ")\n",
    "t = env.get_template(path_template)"
   ]
  },
  {
   "cell_type": "code",
   "execution_count": 13,
   "id": "b7419c5e",
   "metadata": {},
   "outputs": [],
   "source": [
    "combined = zip(metric_paths,metric_names,y_label)\n",
    "for metric_path,metric_name,y_label in combined:\n",
    "    render = t.render(metric_path=metric_path, metric_name=metric_name, y_label=y_label)\n",
    "    with open(f\"{path_latex_files+metric_name.lower()}.tex\",\"w\") as f:\n",
    "        f.write(render)"
   ]
  },
  {
   "cell_type": "code",
   "execution_count": null,
   "id": "ead41579",
   "metadata": {},
   "outputs": [],
   "source": []
  }
 ],
 "metadata": {
  "kernelspec": {
   "display_name": "Python 3 (ipykernel)",
   "language": "python",
   "name": "python3"
  },
  "language_info": {
   "codemirror_mode": {
    "name": "ipython",
    "version": 3
   },
   "file_extension": ".py",
   "mimetype": "text/x-python",
   "name": "python",
   "nbconvert_exporter": "python",
   "pygments_lexer": "ipython3",
   "version": "3.10.9"
  }
 },
 "nbformat": 4,
 "nbformat_minor": 5
}
