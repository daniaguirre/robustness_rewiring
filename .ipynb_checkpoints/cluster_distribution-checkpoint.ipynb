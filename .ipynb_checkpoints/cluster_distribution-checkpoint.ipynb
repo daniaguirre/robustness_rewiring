{
 "cells": [
  {
   "cell_type": "code",
   "execution_count": null,
   "id": "de79a8f0",
   "metadata": {},
   "outputs": [],
   "source": [
    "from os.path import exists as exists\n",
    "import pandas as pd  \n",
    "import numpy as np\n",
    "from math import sqrt"
   ]
  },
  {
   "cell_type": "code",
   "execution_count": null,
   "id": "a3ee81f9",
   "metadata": {},
   "outputs": [],
   "source": [
    "RULES = [1,2]\n",
    "ENLACES = [1,2,4,8,16,32]\n",
    "EXPERIMENTOS = list(range(1,11))\n",
    "PATH_PLOT_FILES = \"plot_files\\\\fisher_entropy\\\\fisher_entropy\"\n",
    "PATH_DATA = \"data_critical_threshold\\\\degree_distributions\\\\\""
   ]
  },
  {
   "cell_type": "code",
   "execution_count": null,
   "id": "7c6d39b5",
   "metadata": {},
   "outputs": [],
   "source": [
    "def save_csv(data_df, path_file):\n",
    "    print(\"Save: \", path_file)\n",
    "    data_df.to_csv(path_file, sep=',',encoding='utf-8')"
   ]
  },
  {
   "cell_type": "markdown",
   "id": "e7dff196",
   "metadata": {},
   "source": [
    "# Obtiene datos de distribicion de grado"
   ]
  },
  {
   "cell_type": "code",
   "execution_count": null,
   "id": "cf5c5731",
   "metadata": {},
   "outputs": [],
   "source": [
    "def get_df_dd():\n",
    "    data = dict()\n",
    "    for rule in RULES:\n",
    "        data[rule] = dict() \n",
    "        for experimento in EXPERIMENTOS:\n",
    "            data[rule][experimento] = dict()\n",
    "            for enlace in ENLACES:\n",
    "                p_deg_dist = PATH_DATA + 'r' + str(rule) + \"_enlaceD\" + str(enlace) + \"_experimento\" + str(experimento) + \"_ciclo30_dist_degree.csv\"\n",
    "                if exists(p_deg_dist):\n",
    "                    data[rule][experimento][enlace] = dict()\n",
    "                    df_data = pd.read_csv(p_deg_dist,sep=\";\")[['bins','d']]\n",
    "                    #critical threshold  \n",
    "                    df_data['k_sum'] = df_data['bins'] * df_data['d']\n",
    "                    df_data['k2'] = df_data['d'] * df_data['d']\n",
    "                    df_data['k2_sum'] = df_data['bins'] * df_data['k2']\n",
    "                    df_data['p'] = df_data['d'] / 2500 \n",
    "                    #entropy\n",
    "                    df_data['ln_k'] = np.log(df_data['d'])\n",
    "                    df_data['ln_k_sum'] = df_data['bins'] * df_data['ln_k']\n",
    "                    df_data.replace([np.inf, -np.inf], 0, inplace=True)\n",
    "                    df_data = df_data.fillna(0)\n",
    "                    #print(df_data)\n",
    "                    #critical threshold  \n",
    "                    k_prom = df_data['k_sum'].sum() / 2500\n",
    "                    k2_prom = df_data['k2_sum'].sum() / 2500\n",
    "                    fc = 1-(1 / ((k2_prom/k_prom)-1))\n",
    "                    #print(k_prom)\n",
    "                    #print(k2_prom)\n",
    "                    #print('fc= ',fc)\n",
    "                    #entropy shannon\n",
    "                    ln_k_prom = df_data['ln_k_sum'].sum() / 2500\n",
    "                    h = ln_k_prom/(2500*np.log(2499))\n",
    "                    #print('h= ',h)\n",
    "                    #entropy fisher\n",
    "                    #print(\"comprueba densidad \", str(df_data['p'].sum()))\n",
    "                    p = list(df_data['p'])\n",
    "                    i = len(p) - 1\n",
    "                    F_sum = [(sqrt(p[x+1])-sqrt(p[x]))**2 for  x in range(i)]\n",
    "                    F = sum(F_sum)*2\n",
    "                    #print('i=',str(i),\"=\",str(len(F_sum)))\n",
    "                    #print(\"p=\",p)\n",
    "                    #print(\"F_sum=\",F_sum)\n",
    "                    #print(\"F=\", F)\n",
    "                    data[rule][experimento][enlace]['fc'] = fc\n",
    "                    data[rule][experimento][enlace]['h'] = h\n",
    "                    data[rule][experimento][enlace]['F'] = F\n",
    "                else:\n",
    "                    print(\"No existe: \", p_deg_dist)\n",
    "    return data"
   ]
  },
  {
   "cell_type": "markdown",
   "id": "dffec659",
   "metadata": {},
   "source": [
    "Plots files para calcular metricas"
   ]
  },
  {
   "cell_type": "code",
   "execution_count": null,
   "id": "87a35291",
   "metadata": {},
   "outputs": [],
   "source": [
    "df_dd = get_df_dd()\n",
    "print(df_dd)"
   ]
  },
  {
   "cell_type": "code",
   "execution_count": null,
   "id": "4bb8572f",
   "metadata": {},
   "outputs": [],
   "source": [
    "p_results = PATH_PLOT_FILES + '.csv'\n",
    "results=dict()\n",
    "if not exists(p_results):\n",
    "    for r in RULES:\n",
    "            #print(p_results)\n",
    "            df_list = list()\n",
    "            for e in EXPERIMENTOS:\n",
    "                if e in df_dd[r].keys():\n",
    "                    df = df_dd[r][e]\n",
    "                    df_data = pd.DataFrame.from_dict(df).T\n",
    "                    df_data['experimento'] = e\n",
    "                    if not df_data.empty:\n",
    "                        df_list.append(df_data)\n",
    "            df_entropy = pd.concat(df_list)\n",
    "            df_entropy.reset_index(inplace=True)\n",
    "            df_entropy = df_entropy.rename(columns = {'index':'l_max'})\n",
    "            #print(df_entropy)\n",
    "            results['F_mean_r'+str(r)] = df_entropy.groupby('l_max')['F'].mean()\n",
    "            results['F_std_r'+str(r)] = df_entropy.groupby('l_max')['F'].std()\n",
    "    pd_results = pd.DataFrame(results)\n",
    "    pd_results.index.name = 'l_max'\n",
    "    pd_results = pd_results.sort_values(by=['l_max'],ascending=False)\n",
    "    print(pd_results)\n",
    "    save_csv(pd_results, p_results)\n",
    "else:\n",
    "    print('Ya existe ', p_results)"
   ]
  }
 ],
 "metadata": {
  "kernelspec": {
   "display_name": "Python 3 (ipykernel)",
   "language": "python",
   "name": "python3"
  },
  "language_info": {
   "codemirror_mode": {
    "name": "ipython",
    "version": 3
   },
   "file_extension": ".py",
   "mimetype": "text/x-python",
   "name": "python",
   "nbconvert_exporter": "python",
   "pygments_lexer": "ipython3",
   "version": "3.10.9"
  }
 },
 "nbformat": 4,
 "nbformat_minor": 5
}
