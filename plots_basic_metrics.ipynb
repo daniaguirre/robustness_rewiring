{
 "cells": [
  {
   "cell_type": "code",
   "execution_count": null,
   "id": "de79a8f0",
   "metadata": {},
   "outputs": [],
   "source": [
    "from os.path import exists as exists\n",
    "import pandas as pd"
   ]
  },
  {
   "cell_type": "code",
   "execution_count": null,
   "id": "a3ee81f9",
   "metadata": {},
   "outputs": [],
   "source": [
    "RULES = [1,2]\n",
    "PATH_PLOT_FILES = \"plot_files\\\\critical_threshold\"\n",
    "PATH_DEGRADATION = \"data_critical_threshold\\\\critical_threshold\\\\puntos_criticos_r\"\n",
    "DEGRADATION_TYPE = [\"ataques\", \"fallos\"]\n",
    "DEGRADATION_REPETITIONS = [[1],list(range(1,11))]\n",
    "D = 0\n",
    "DEGRADATION = DEGRADATION_TYPE[D]\n",
    "REPETITIONS = DEGRADATION_REPETITIONS[D]"
   ]
  },
  {
   "cell_type": "code",
   "execution_count": null,
   "id": "7c6d39b5",
   "metadata": {},
   "outputs": [],
   "source": [
    "def save_csv(data_df, path_file):\n",
    "    print(\"Save: \", path_file)\n",
    "    data_df.to_csv(path_file, sep=',',encoding='utf-8')"
   ]
  },
  {
   "cell_type": "markdown",
   "id": "e7dff196",
   "metadata": {},
   "source": [
    "# Obtiene datos de degradación (ataques o fallos)"
   ]
  },
  {
   "cell_type": "markdown",
   "id": "dffec659",
   "metadata": {},
   "source": [
    "Plots files para calcular metricas"
   ]
  },
  {
   "cell_type": "markdown",
   "id": "c4ac3197",
   "metadata": {},
   "source": [
    "# Crea archivos de plots"
   ]
  },
  {
   "cell_type": "code",
   "execution_count": null,
   "id": "f02181e2",
   "metadata": {},
   "outputs": [],
   "source": [
    "def compute_plot_files(data_metrics):\n",
    "    results = dict()\n",
    "    for r in RULES:\n",
    "        p_results= PATH_DEGRADATION + str(rule) + \"_\" + str(DEGRADATION) + \"_s0.csv\"\n",
    "        if not exists(p_results):\n",
    "            print(p_results)\n",
    "            #results[metric][enlace]['removed'] = [x/100 for x in list(range(100,-1,-1))]\n",
    "            results['mean_r1_s'] = data_metrics['prop_largestc'][enlace][1].groupby('num_nodes')['prop_largestc'].mean()\n",
    "            results['std_r1_s'] = data_metrics['prop_largestc'][enlace][1].groupby('num_nodes')['prop_largestc'].std()\n",
    "            results['mean_r2_s'] = data_metrics['prop_largestc'][enlace][2].groupby('num_nodes')['prop_largestc'].mean()\n",
    "            results['std_r2_s'] = data_metrics['prop_largestc'][enlace][2].groupby('num_nodes')['prop_largestc'].std()\n",
    "            results['mean_r1_avg_s'] = data_metrics['avg_isolatedc'][enlace][1].groupby('num_nodes')['avg_isolatedc'].mean()\n",
    "            results['std_r1_avg_s'] = data_metrics['avg_isolatedc'][enlace][1].groupby('num_nodes')['avg_isolatedc'].std()\n",
    "            results['mean_r2_avg_s'] = data_metrics['avg_isolatedc'][enlace][2].groupby('num_nodes')['avg_isolatedc'].mean()\n",
    "            results['std_r2_avg_s'] = data_metrics['avg_isolatedc'][enlace][2].groupby('num_nodes')['avg_isolatedc'].std()\n",
    "            pd_results = pd.DataFrame(results[metric][enlace])\n",
    "            pd_results.index.name = 'num_nodes'\n",
    "            pd_results = pd_results.fillna(0)\n",
    "            pd_results = pd_results.sort_values(by=['num_nodes'],ascending=False)\n",
    "            print(pd_results)\n",
    "            save_csv(pd_results, p_results)\n",
    "        else:\n",
    "            print('Ya existe ', p_results)"
   ]
  },
  {
   "cell_type": "markdown",
   "id": "d23e2ad0",
   "metadata": {},
   "source": [
    "## Test para crear archivos de ataques"
   ]
  },
  {
   "cell_type": "code",
   "execution_count": null,
   "id": "8aa58f3d",
   "metadata": {},
   "outputs": [],
   "source": [
    "data_metrics = get_data_degradation()"
   ]
  },
  {
   "cell_type": "code",
   "execution_count": null,
   "id": "766fcd86",
   "metadata": {},
   "outputs": [],
   "source": [
    "data_metrics['avg_isolatedc'][1][1]"
   ]
  },
  {
   "cell_type": "code",
   "execution_count": null,
   "id": "7a38d6ec",
   "metadata": {},
   "outputs": [],
   "source": [
    "compute_plot_files(data_metrics)"
   ]
  },
  {
   "cell_type": "code",
   "execution_count": null,
   "id": "c1f2d0e9",
   "metadata": {},
   "outputs": [],
   "source": []
  },
  {
   "cell_type": "code",
   "execution_count": null,
   "id": "45b3af71",
   "metadata": {},
   "outputs": [],
   "source": []
  }
 ],
 "metadata": {
  "kernelspec": {
   "display_name": "Python 3 (ipykernel)",
   "language": "python",
   "name": "python3"
  },
  "language_info": {
   "codemirror_mode": {
    "name": "ipython",
    "version": 3
   },
   "file_extension": ".py",
   "mimetype": "text/x-python",
   "name": "python",
   "nbconvert_exporter": "python",
   "pygments_lexer": "ipython3",
   "version": "3.10.9"
  }
 },
 "nbformat": 4,
 "nbformat_minor": 5
}
