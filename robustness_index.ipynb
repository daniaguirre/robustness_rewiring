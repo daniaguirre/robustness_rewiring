{
 "cells": [
  {
   "cell_type": "code",
   "execution_count": 1,
   "id": "de79a8f0",
   "metadata": {},
   "outputs": [],
   "source": [
    "from os.path import exists as exists\n",
    "import pandas as pd"
   ]
  },
  {
   "cell_type": "code",
   "execution_count": 24,
   "id": "a3ee81f9",
   "metadata": {},
   "outputs": [],
   "source": [
    "PATH_PLOT_R = \"plot_files\\\\robustness_index\\\\r_index_\"\n",
    "PATH_ROLCC = \"plot_files\\\\components\\\\components_enlaceD\""
   ]
  },
  {
   "cell_type": "code",
   "execution_count": 28,
   "id": "7c6d39b5",
   "metadata": {},
   "outputs": [],
   "source": [
    "def save_csv(data_df, path_file):\n",
    "    print(\"Save: \", path_file)\n",
    "    data_df.to_csv(path_file, sep=',',encoding='utf-8',index='False')"
   ]
  },
  {
   "cell_type": "markdown",
   "id": "e7dff196",
   "metadata": {},
   "source": [
    "# Obtiene datos de degradación (ataques o fallos)"
   ]
  },
  {
   "cell_type": "markdown",
   "id": "dffec659",
   "metadata": {},
   "source": [
    "Plots files para calcular metricas"
   ]
  },
  {
   "cell_type": "code",
   "execution_count": 29,
   "id": "c94273a6",
   "metadata": {},
   "outputs": [
    {
     "name": "stdout",
     "output_type": "stream",
     "text": [
      "plot_files\\robustness_index\\r_index_failure.csv\n",
      "     mean_r1_s  std_r1_s  mean_r2_s  std_r2_s  enlace\n",
      "100   0.633419  0.024937   0.633423  0.024889      32\n",
      "100   0.716452  0.023795   0.745541  0.019978      16\n",
      "100   0.753710  0.021579   0.775210  0.017249       8\n",
      "100   0.773223  0.021151   0.757649  0.099897       4\n",
      "100   0.779295  0.020079   0.789932  0.015141       2\n",
      "100   0.777804  0.020332   0.789508  0.014768       1\n",
      "Save:  plot_files\\robustness_index\\r_index_failure.csv\n",
      "plot_files\\robustness_index\\r_index_attack.csv\n",
      "     mean_r1_s  std_r1_s  mean_r2_s  std_r2_s  enlace\n",
      "100   0.476233  0.016894   0.477443  0.017178      32\n",
      "100   0.490833  0.009034   0.473370  0.006989      16\n",
      "100   0.471383  0.008462   0.472234  0.010432       8\n",
      "100   0.445288  0.014299   0.481955  0.011082       4\n",
      "100   0.423463  0.018099   0.493711  0.009719       2\n",
      "100   0.429756  0.017385   0.501501  0.006980       1\n",
      "Save:  plot_files\\robustness_index\\r_index_attack.csv\n"
     ]
    }
   ],
   "source": [
    "for degradation in ['failure', 'attack']:\n",
    "    p_rindex = PATH_PLOT_R + degradation + '.csv'\n",
    "    r_list = list()\n",
    "    if not exists(p_rindex):\n",
    "        for enlace in [32,16,8,4,2,1]:\n",
    "            p_rolcc = PATH_ROLCC + str(enlace) + \"_\" + degradation + \".csv\"\n",
    "            if exists(p_rolcc):\n",
    "                #print(p_rolcc)\n",
    "                data_rolcc = pd.read_csv(p_rolcc)[['mean_r1_s','std_r1_s','mean_r2_s','std_r2_s']]\n",
    "                #Remover el primer renglon (cuando la red no esta degradada) para no afectar el calculo\n",
    "                data_rolcc = data_rolcc.drop([0])\n",
    "                #print(data_rolcc)\n",
    "                #r_index = data_rolcc.mean()\n",
    "                mean_df = pd.DataFrame(data_rolcc.mean().to_dict(),index=[data_rolcc.index.values[-1]])\n",
    "                mean_df['enlace'] = int(enlace)\n",
    "                r_list.append(mean_df)\n",
    "                #print(mean_df)\n",
    "            else:\n",
    "                print('Do not exists ', p_rolcc)\n",
    "        rindex_df = pd.concat(r_list)\n",
    "        print(p_rindex)\n",
    "        print(rindex_df)\n",
    "        save_csv(rindex_df, p_rindex)\n",
    "    else:\n",
    "        print(\"Exists \", p_rindex)"
   ]
  },
  {
   "cell_type": "code",
   "execution_count": null,
   "id": "c1f2d0e9",
   "metadata": {},
   "outputs": [],
   "source": []
  },
  {
   "cell_type": "code",
   "execution_count": null,
   "id": "45b3af71",
   "metadata": {},
   "outputs": [],
   "source": []
  }
 ],
 "metadata": {
  "kernelspec": {
   "display_name": "Python 3 (ipykernel)",
   "language": "python",
   "name": "python3"
  },
  "language_info": {
   "codemirror_mode": {
    "name": "ipython",
    "version": 3
   },
   "file_extension": ".py",
   "mimetype": "text/x-python",
   "name": "python",
   "nbconvert_exporter": "python",
   "pygments_lexer": "ipython3",
   "version": "3.10.9"
  }
 },
 "nbformat": 4,
 "nbformat_minor": 5
}
