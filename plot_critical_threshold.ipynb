{
 "cells": [
  {
   "cell_type": "code",
   "execution_count": 47,
   "id": "de79a8f0",
   "metadata": {},
   "outputs": [],
   "source": [
    "from os.path import exists as exists\n",
    "import pandas as pd"
   ]
  },
  {
   "cell_type": "code",
   "execution_count": 56,
   "id": "a3ee81f9",
   "metadata": {},
   "outputs": [],
   "source": [
    "RULES = [1,2]\n",
    "PATH_PLOT_FILES = \"plot_files\\\\critical_threshold\\\\\"\n",
    "PATH_DEGRADATION = \"data_critical_threshold\\\\critical_threshold\\\\puntos_criticos_r\"\n",
    "DEGRADATION_TYPE = [\"ataques\", \"fallos\"]\n",
    "DEGRADATION_REPETITIONS = [[1],list(range(1,11))]\n",
    "D = 0\n",
    "DEGRADATION = DEGRADATION_TYPE[D]\n",
    "REPETITIONS = DEGRADATION_REPETITIONS[D]"
   ]
  },
  {
   "cell_type": "code",
   "execution_count": 57,
   "id": "7c6d39b5",
   "metadata": {},
   "outputs": [],
   "source": [
    "def save_csv(data_df, path_file):\n",
    "    print(\"Save: \", path_file)\n",
    "    data_df.to_csv(path_file, sep=',',encoding='utf-8')"
   ]
  },
  {
   "cell_type": "markdown",
   "id": "e7dff196",
   "metadata": {},
   "source": [
    "# Obtiene datos de degradación (ataques o fallos)"
   ]
  },
  {
   "cell_type": "markdown",
   "id": "dffec659",
   "metadata": {},
   "source": [
    "Plots files para calcular metricas"
   ]
  },
  {
   "cell_type": "markdown",
   "id": "c4ac3197",
   "metadata": {},
   "source": [
    "# Crea archivos de plots"
   ]
  },
  {
   "cell_type": "code",
   "execution_count": 58,
   "id": "f02181e2",
   "metadata": {},
   "outputs": [],
   "source": [
    "def compute_plot_files():\n",
    "    results = dict()\n",
    "    p_cthreshold = PATH_PLOT_FILES + DEGRADATION + \"_cthreshold_sf.csv\"\n",
    "    print(p_cthreshold)\n",
    "    if not exists(p_cthreshold):\n",
    "        for r in RULES:\n",
    "            p_results= PATH_DEGRADATION + str(r) + \"_\" + DEGRADATION + \"_sf.csv\"\n",
    "            data_fc = pd.read_csv(p_results, index_col='enlace')\n",
    "            #print(data_fc)\n",
    "            results['mean_r' + str(r) + '_pci'] = data_fc.groupby('enlace')['pci'].mean() / 100\n",
    "            results['mean_r' + str(r) + '_pcm'] = data_fc.groupby('enlace')['pcm'].mean() / 100\n",
    "            results['mean_r' + str(r) + '_pcf'] = data_fc.groupby('enlace')['pcf'].mean() / 100\n",
    "            results['std_r' + str(r) + '_pci'] = data_fc.groupby('enlace')['pci'].std() / 100\n",
    "            results['std_r' + str(r) + '_pcm'] = data_fc.groupby('enlace')['pcm'].std() / 100\n",
    "            results['std_r' + str(r) + '_pcf'] = data_fc.groupby('enlace')['pcf'].std() / 100\n",
    "            results['mean_r' + str(r) + '_plus_pcf'] = results['mean_r' + str(r) + '_pcf'] - results['mean_r' + str(r) + '_pcm']\n",
    "            results['mean_r' + str(r) + '_minus_pci'] = results['mean_r' + str(r) + '_pcm'] - results['mean_r' + str(r) + '_pci']\n",
    "            pd_results = pd.DataFrame(results)\n",
    "            pd_results.index.name = 'enlace'\n",
    "            #pd_results = pd_results.fillna(0)\n",
    "            pd_results = pd_results.sort_values(by=['enlace'],ascending=False)\n",
    "        print(pd_results)\n",
    "        save_csv(pd_results, p_cthreshold)\n",
    "    else:\n",
    "        print('Ya existe ', p_cthreshold)"
   ]
  },
  {
   "cell_type": "code",
   "execution_count": 59,
   "id": "7a38d6ec",
   "metadata": {},
   "outputs": [
    {
     "name": "stdout",
     "output_type": "stream",
     "text": [
      "plot_files\\critical_threshold\\ataques_cthreshold_sf.csv\n",
      "        mean_r1_pci  mean_r1_pcm  mean_r1_pcf  std_r1_pci  std_r1_pcm  \\\n",
      "enlace                                                                  \n",
      "32            0.110        0.424        0.523    0.000000    0.009661   \n",
      "16            0.110        0.447        0.514    0.000000    0.004830   \n",
      "8             0.110        0.430        0.497    0.000000    0.000000   \n",
      "4             0.109        0.399        0.488    0.003162    0.005676   \n",
      "2             0.104        0.372        0.477    0.005164    0.012293   \n",
      "1             0.107        0.381        0.470    0.004830    0.013703   \n",
      "\n",
      "        std_r1_pcf  mean_r1_plus_pcf  mean_r1_minus_pci  mean_r2_pci  \\\n",
      "enlace                                                                 \n",
      "32        0.018288             0.099              0.314        0.410   \n",
      "16        0.017127             0.067              0.337        0.430   \n",
      "8         0.016364             0.067              0.320        0.410   \n",
      "4         0.019322             0.089              0.290        0.416   \n",
      "2         0.020575             0.105              0.268        0.440   \n",
      "1         0.022111             0.089              0.274        0.447   \n",
      "\n",
      "        mean_r2_pcm  mean_r2_pcf  std_r2_pci  std_r2_pcm  std_r2_pcf  \\\n",
      "enlace                                                                 \n",
      "32            0.469        0.542    0.012472    0.030350    0.004216   \n",
      "16            0.468        0.538    0.004714    0.006325    0.015492   \n",
      "8             0.467        0.540    0.004714    0.010593    0.004714   \n",
      "4             0.488        0.531    0.005164    0.013984    0.015951   \n",
      "2             0.498        0.528    0.013333    0.010328    0.010328   \n",
      "1             0.507        0.537    0.006749    0.006749    0.011595   \n",
      "\n",
      "        mean_r2_plus_pcf  mean_r2_minus_pci  \n",
      "enlace                                       \n",
      "32                 0.073              0.059  \n",
      "16                 0.070              0.038  \n",
      "8                  0.073              0.057  \n",
      "4                  0.043              0.072  \n",
      "2                  0.030              0.058  \n",
      "1                  0.030              0.060  \n",
      "Save:  plot_files\\critical_threshold\\ataques_cthreshold_sf.csv\n"
     ]
    }
   ],
   "source": [
    "compute_plot_files()"
   ]
  },
  {
   "cell_type": "code",
   "execution_count": null,
   "id": "c1f2d0e9",
   "metadata": {},
   "outputs": [],
   "source": []
  },
  {
   "cell_type": "code",
   "execution_count": null,
   "id": "45b3af71",
   "metadata": {},
   "outputs": [],
   "source": []
  }
 ],
 "metadata": {
  "kernelspec": {
   "display_name": "Python 3 (ipykernel)",
   "language": "python",
   "name": "python3"
  },
  "language_info": {
   "codemirror_mode": {
    "name": "ipython",
    "version": 3
   },
   "file_extension": ".py",
   "mimetype": "text/x-python",
   "name": "python",
   "nbconvert_exporter": "python",
   "pygments_lexer": "ipython3",
   "version": "3.10.9"
  }
 },
 "nbformat": 4,
 "nbformat_minor": 5
}
